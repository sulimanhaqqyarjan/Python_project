{
 "cells": [
  {
   "cell_type": "code",
   "execution_count": 1,
   "id": "b2f957fc-2b86-489b-b99e-4556f4aee4d8",
   "metadata": {},
   "outputs": [
    {
     "name": "stdout",
     "output_type": "stream",
     "text": [
      "Requirement already satisfied: pytube in c:\\users\\sulim\\anaconda3\\lib\\site-packages (15.0.0)\n"
     ]
    }
   ],
   "source": [
    "!pip install pytube"
   ]
  },
  {
   "cell_type": "code",
   "execution_count": 3,
   "id": "3c6643d5-babd-4c0f-b8d5-8f8759f6252b",
   "metadata": {},
   "outputs": [],
   "source": [
    "from pytube import Playlist\n",
    "\n",
    "playlist_url=input(\"Enter  your playlist\")\n",
    "playlist=Playlist(playlist_url)\n",
    "for video in playlist.videos:\n",
    "    video.streams.get_highest_resolution().download()\n",
    "\n"
   ]
  },
  {
   "cell_type": "code",
   "execution_count": null,
   "id": "2499c769-a6e8-4737-a4ae-0bdedf78b94e",
   "metadata": {},
   "outputs": [],
   "source": [
    "!pip install request"
   ]
  },
  {
   "cell_type": "code",
   "execution_count": 1,
   "id": "c7e66243-af86-4f5c-8a4d-29fea12bf194",
   "metadata": {},
   "outputs": [],
   "source": [
    "from pytube import YouTube\n",
    "\n",
    "# Specify the URL of the video you want to download\n",
    "video_url = \"https://www.youtube.com/watch?v=oQy6A9IguFc\"\n",
    "\n",
    "# Create a YouTube object with the video URL\n",
    "yt = YouTube(video_url)\n",
    "\n",
    "# Get the highest resolution stream available\n",
    "stream = yt.streams.get_highest_resolution()\n",
    "\n",
    "# Download the video\n",
    "print(f\"Downloading: {yt.title}\")\n",
    "stream.download()\n",
    "print(f\"Downloaded: {yt.title}\")\n"
   ]
  },
  {
   "cell_type": "code",
   "execution_count": null,
   "id": "296f9e28-ccfb-4a49-bebc-38a41154054a",
   "metadata": {},
   "outputs": [],
   "source": []
  }
 ],
 "metadata": {
  "kernelspec": {
   "display_name": "Python 3 (ipykernel)",
   "language": "python",
   "name": "python3"
  },
  "language_info": {
   "codemirror_mode": {
    "name": "ipython",
    "version": 3
   },
   "file_extension": ".py",
   "mimetype": "text/x-python",
   "name": "python",
   "nbconvert_exporter": "python",
   "pygments_lexer": "ipython3",
   "version": "3.12.4"
  }
 },
 "nbformat": 4,
 "nbformat_minor": 5
}
