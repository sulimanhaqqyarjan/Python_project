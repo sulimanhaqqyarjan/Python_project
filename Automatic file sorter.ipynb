{
 "cells": [
  {
   "cell_type": "code",
   "execution_count": 44,
   "id": "f3437e58-5070-4ac0-bd05-88334073aa36",
   "metadata": {},
   "outputs": [],
   "source": [
    "import os , shutil"
   ]
  },
  {
   "cell_type": "code",
   "execution_count": 46,
   "id": "bbb53fbd-8b3e-42ed-a7e3-afb67a144c4e",
   "metadata": {},
   "outputs": [],
   "source": [
    "path='C:/Users/sulim/Desktop/python tut/'"
   ]
  },
  {
   "cell_type": "code",
   "execution_count": 52,
   "id": "6e7eaa1c-573e-4da2-9c9c-6f15f73d1156",
   "metadata": {},
   "outputs": [
    {
     "data": {
      "text/plain": [
       "['.ipynb_checkpoints',\n",
       " '.mp4',\n",
       " 'Automatic file sorter.ipynb',\n",
       " 'sample.txt',\n",
       " 'titles for research.txt']"
      ]
     },
     "execution_count": 52,
     "metadata": {},
     "output_type": "execute_result"
    }
   ],
   "source": [
    "file_name=os.listdir(path)\n",
    "file_name"
   ]
  },
  {
   "cell_type": "code",
   "execution_count": 58,
   "id": "f3560c3e-2ce2-4cd2-9afb-6354673fd1d5",
   "metadata": {},
   "outputs": [],
   "source": [
    "folder_name=['mp4 files','python files','text files']\n",
    "for loop in range(0,3):\n",
    "    if not os.path.exists(path+folder_name[loop]):\n",
    "        os.mkdir(path+folder_name[loop])"
   ]
  },
  {
   "cell_type": "code",
   "execution_count": 60,
   "id": "7c2b7d0f-fb69-4a77-9b70-c11123f72ff1",
   "metadata": {},
   "outputs": [],
   "source": [
    "for file in file_name:\n",
    "    if '.mp4' in file and not os.path.exists(path+'mp4 files/'+file):\n",
    "        shutil.move(path+file,path+'mp4 files/'+file)\n",
    "\n",
    "    elif '.py' in file and not os.path.exists(path+'python files/'+file):\n",
    "        shutil.move(path+file,path+'python files/'+file)\n",
    "\n",
    "    elif '.txt' in file and not os.path.exists(path+'text files/'+file):\n",
    "        shutil.move(path+file,path+'text files/'+file)\n",
    "        "
   ]
  },
  {
   "cell_type": "code",
   "execution_count": null,
   "id": "6ecdc9fe-02e5-446a-b92a-7d231bad6460",
   "metadata": {},
   "outputs": [],
   "source": []
  }
 ],
 "metadata": {
  "kernelspec": {
   "display_name": "Python 3 (ipykernel)",
   "language": "python",
   "name": "python3"
  },
  "language_info": {
   "codemirror_mode": {
    "name": "ipython",
    "version": 3
   },
   "file_extension": ".py",
   "mimetype": "text/x-python",
   "name": "python",
   "nbconvert_exporter": "python",
   "pygments_lexer": "ipython3",
   "version": "3.12.4"
  }
 },
 "nbformat": 4,
 "nbformat_minor": 5
}
