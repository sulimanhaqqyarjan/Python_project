{
 "cells": [
  {
   "cell_type": "code",
   "execution_count": 1,
   "id": "557976c6-3b5f-406b-9f5f-60323d9976f8",
   "metadata": {},
   "outputs": [
    {
     "name": "stdout",
     "output_type": "stream",
     "text": [
      "file path exit C:/Users/sulim/Downloads/jan.txt\n"
     ]
    }
   ],
   "source": [
    "import os\n",
    "path='C:/Users/sulim/Downloads/jan.txt'\n",
    "if  os.path.exists(path):\n",
    "    print(f\"file path exit {path}\")\n",
    "else:\n",
    "    print(f\"file path doesnot exit{path}\")\n",
    "\n",
    "# openfile= open('jan.txt', 'rt')\n"
   ]
  },
  {
   "cell_type": "code",
   "execution_count": 2,
   "id": "9eca6fff-7f24-449d-8df6-19c5d50d6705",
   "metadata": {},
   "outputs": [
    {
     "name": "stdout",
     "output_type": "stream",
     "text": [
      "This is new text bro.  i have deleted all of your text\n"
     ]
    }
   ],
   "source": [
    "# with open(\"path\",'r') as file:\n",
    "    \n",
    "#     file.read()\n",
    "\n",
    "\n",
    "# Correct usage of file handling\n",
    "with open(path, 'r') as file:\n",
    "    content = file.read()\n",
    "    print(content)\n",
    "\n"
   ]
  },
  {
   "cell_type": "code",
   "execution_count": 3,
   "id": "5bd5d704-7ec5-4f28-8b36-cf25f33aab21",
   "metadata": {},
   "outputs": [
    {
     "name": "stdout",
     "output_type": "stream",
     "text": [
      "This is new text bro.  i have deleted all of your text\n"
     ]
    }
   ],
   "source": [
    "f = open(\"jan.txt\", \"rt\")\n",
    "print(f.readline())"
   ]
  },
  {
   "cell_type": "code",
   "execution_count": 4,
   "id": "d1efe8e9-b69e-408a-ba0c-1e018d8051e9",
   "metadata": {},
   "outputs": [
    {
     "data": {
      "text/plain": [
       "''"
      ]
     },
     "execution_count": 4,
     "metadata": {},
     "output_type": "execute_result"
    }
   ],
   "source": [
    "f.readline()"
   ]
  },
  {
   "cell_type": "code",
   "execution_count": 5,
   "id": "8fde377e-89fe-4792-a49a-44d526b8e944",
   "metadata": {},
   "outputs": [
    {
     "name": "stdout",
     "output_type": "stream",
     "text": [
      "This is new text bro.  i have deleted all of your textThis is new text bro\n"
     ]
    }
   ],
   "source": [
    "file=open('jan.txt' ,'a')\n",
    "file.write('This is new text bro')\n",
    "file=open('jan.txt','r')\n",
    "for text in file:\n",
    "    print(text)\n",
    "file.close()    "
   ]
  },
  {
   "cell_type": "code",
   "execution_count": 6,
   "id": "b9aac64c-b88e-4195-b0b2-9fd96ebedc63",
   "metadata": {},
   "outputs": [
    {
     "name": "stdout",
     "output_type": "stream",
     "text": [
      "This is new text bro.  i have deleted all of your text\n"
     ]
    }
   ],
   "source": [
    "file=open('jan.txt' ,'w')\n",
    "file.write('This is new text bro.  i have deleted all of your text')\n",
    "file=open('jan.txt','r')\n",
    "for text in file:\n",
    "    print(text)\n",
    "file.close()   "
   ]
  },
  {
   "cell_type": "code",
   "execution_count": 7,
   "id": "769fc4f8-df79-4a4b-814f-ee80ba42a020",
   "metadata": {},
   "outputs": [
    {
     "ename": "FileExistsError",
     "evalue": "[Errno 17] File exists: 'newfile.txt'",
     "output_type": "error",
     "traceback": [
      "\u001b[1;31m---------------------------------------------------------------------------\u001b[0m",
      "\u001b[1;31mFileExistsError\u001b[0m                           Traceback (most recent call last)",
      "Cell \u001b[1;32mIn[7], line 1\u001b[0m\n\u001b[1;32m----> 1\u001b[0m newfile\u001b[38;5;241m=\u001b[39m\u001b[38;5;28mopen\u001b[39m(\u001b[38;5;124m'\u001b[39m\u001b[38;5;124mnewfile.txt\u001b[39m\u001b[38;5;124m'\u001b[39m,\u001b[38;5;124m'\u001b[39m\u001b[38;5;124mx\u001b[39m\u001b[38;5;124m'\u001b[39m)\n\u001b[0;32m      2\u001b[0m newfile\u001b[38;5;241m=\u001b[39mwrite(\u001b[38;5;124m'\u001b[39m\u001b[38;5;124mthis is new text\u001b[39m\u001b[38;5;124m'\u001b[39m,\u001b[38;5;124m'\u001b[39m\u001b[38;5;124mw\u001b[39m\u001b[38;5;124m'\u001b[39m)\n\u001b[0;32m      3\u001b[0m newfile\u001b[38;5;241m.\u001b[39mclose()\n",
      "File \u001b[1;32m~\\anaconda3\\Lib\\site-packages\\IPython\\core\\interactiveshell.py:324\u001b[0m, in \u001b[0;36m_modified_open\u001b[1;34m(file, *args, **kwargs)\u001b[0m\n\u001b[0;32m    317\u001b[0m \u001b[38;5;28;01mif\u001b[39;00m file \u001b[38;5;129;01min\u001b[39;00m {\u001b[38;5;241m0\u001b[39m, \u001b[38;5;241m1\u001b[39m, \u001b[38;5;241m2\u001b[39m}:\n\u001b[0;32m    318\u001b[0m     \u001b[38;5;28;01mraise\u001b[39;00m \u001b[38;5;167;01mValueError\u001b[39;00m(\n\u001b[0;32m    319\u001b[0m         \u001b[38;5;124mf\u001b[39m\u001b[38;5;124m\"\u001b[39m\u001b[38;5;124mIPython won\u001b[39m\u001b[38;5;124m'\u001b[39m\u001b[38;5;124mt let you open fd=\u001b[39m\u001b[38;5;132;01m{\u001b[39;00mfile\u001b[38;5;132;01m}\u001b[39;00m\u001b[38;5;124m by default \u001b[39m\u001b[38;5;124m\"\u001b[39m\n\u001b[0;32m    320\u001b[0m         \u001b[38;5;124m\"\u001b[39m\u001b[38;5;124mas it is likely to crash IPython. If you know what you are doing, \u001b[39m\u001b[38;5;124m\"\u001b[39m\n\u001b[0;32m    321\u001b[0m         \u001b[38;5;124m\"\u001b[39m\u001b[38;5;124myou can use builtins\u001b[39m\u001b[38;5;124m'\u001b[39m\u001b[38;5;124m open.\u001b[39m\u001b[38;5;124m\"\u001b[39m\n\u001b[0;32m    322\u001b[0m     )\n\u001b[1;32m--> 324\u001b[0m \u001b[38;5;28;01mreturn\u001b[39;00m io_open(file, \u001b[38;5;241m*\u001b[39margs, \u001b[38;5;241m*\u001b[39m\u001b[38;5;241m*\u001b[39mkwargs)\n",
      "\u001b[1;31mFileExistsError\u001b[0m: [Errno 17] File exists: 'newfile.txt'"
     ]
    }
   ],
   "source": [
    "newfile=open('newfile.txt','x')\n",
    "newfile=write('this is new text','w')\n",
    "newfile.close()\n",
    "newfile=open('newfile.txt','r')\n",
    "for text in newfile:\n",
    "    print(text)\n",
    "    "
   ]
  },
  {
   "cell_type": "code",
   "execution_count": null,
   "id": "3300687e-b367-43f4-9055-e5f5e0319be6",
   "metadata": {},
   "outputs": [],
   "source": [
    "newfile=open('newfilef.txt','x')\n",
    "newfile.write('newfilef.txt','w')\n",
    "newfile.close()"
   ]
  },
  {
   "cell_type": "code",
   "execution_count": null,
   "id": "db3bb3a6-68d3-4fe3-a4d3-550b810eb100",
   "metadata": {},
   "outputs": [],
   "source": [
    "f = open(\"myfile.txt\", \"x\")"
   ]
  },
  {
   "cell_type": "code",
   "execution_count": null,
   "id": "5a2405b4-2156-475a-8c74-471ef7adcbe3",
   "metadata": {},
   "outputs": [],
   "source": [
    "f = open(\"myfile.txt\", \"a\")\n",
    "f.write(\"some text here is thahjkflkjhjk\")"
   ]
  },
  {
   "cell_type": "code",
   "execution_count": null,
   "id": "797d93cf-9a31-4ee1-b79a-755adde6d931",
   "metadata": {},
   "outputs": [],
   "source": [
    "f=open(\"myfile.txt\",\"r\")\n",
    "for x in f:\n",
    "    print(x)"
   ]
  },
  {
   "cell_type": "code",
   "execution_count": null,
   "id": "45d3952f-01f5-43ed-9d97-38dc9cbfa29a",
   "metadata": {},
   "outputs": [],
   "source": [
    "# i=2\n",
    "# import time\n",
    "# for i in range(5):\n",
    "#     fivefile=open(f\"file{i}.txt\",\"x\")\n",
    "#     time.sleep(20)\n",
    "#     fivefile=open(f\"file{i}.txt\",\"a\")\n",
    "#     fivefile.write(f\"this is first file {i}\")\n",
    "#     fivefile=open(f\"file{i}\",\"r\")\n",
    "#     # i+=1\n",
    "for file in fivefile:\n",
    "    print(file.read())"
   ]
  },
  {
   "cell_type": "code",
   "execution_count": null,
   "id": "1c41b906-c6d6-441f-acba-a4f7ec88bbdd",
   "metadata": {},
   "outputs": [],
   "source": [
    "for i in range(5):\n",
    "    print(i)"
   ]
  },
  {
   "cell_type": "code",
   "execution_count": null,
   "id": "5637f8f9-934f-451b-ba97-48733dbf383b",
   "metadata": {},
   "outputs": [],
   "source": [
    "import time\n",
    "\n",
    "for i in range(20):\n",
    "    # Create the file\n",
    "    with open(f\"file{i}.txt\", \"x\") as fivefile:\n",
    "        pass  # 'x' mode ensures the file is created, and 'pass' does nothing here\n",
    "\n",
    "    # Wait for 10 seconds\n",
    "    time.sleep(10)\n",
    "\n",
    "    # Open the file in append mode and write to it\n",
    "    with open(f\"file{i}.txt\", \"a\") as fivefile:\n",
    "        fivefile.write(f\"This is the first file {i}\\n\")\n",
    "\n",
    "    # Open the file in read mode and read its content\n",
    "    with open(f\"file{i}.txt\", \"r\") as fivefile:\n",
    "        content = fivefile.read()\n",
    "        print(content)\n"
   ]
  },
  {
   "cell_type": "code",
   "execution_count": 27,
   "id": "74f49d38-93aa-43d4-a0c0-5fdd47ec00fb",
   "metadata": {},
   "outputs": [
    {
     "name": "stdout",
     "output_type": "stream",
     "text": [
      "there some thing wrong in file0.txt\n",
      "there some thing wrong in file1.txt\n",
      "there some thing wrong in file2.txt\n",
      "there some thing wrong in file3.txt\n",
      "there some thing wrong in file4.txt\n",
      "there some thing wrong in file5.txt\n",
      "there some thing wrong in file6.txt\n",
      "there some thing wrong in file7.txt\n",
      "there some thing wrong in file8.txt\n",
      "there some thing wrong in file9.txt\n",
      "there some thing wrong in file10.txt\n",
      "there some thing wrong in file11.txt\n",
      "there some thing wrong in file12.txt\n",
      "there some thing wrong in file13.txt\n",
      "there some thing wrong in file14.txt\n",
      "there some thing wrong in file15.txt\n",
      "there some thing wrong in file16.txt\n",
      "there some thing wrong in file17.txt\n",
      "there some thing wrong in file18.txt\n",
      "there some thing wrong in file19.txt\n",
      "all file deleted bro tanx\n"
     ]
    }
   ],
   "source": [
    "import os\n",
    "i=5\n",
    "for i in range(20):\n",
    "    try:\n",
    "        \n",
    "        os.remove(f\"file{i}.txt\")\n",
    "        i=i+1\n",
    "    except:\n",
    "        \n",
    "        print(f\"there some thing wrong in file{i}.txt\")\n",
    "print(\"all file deleted bro tanx\")    "
   ]
  },
  {
   "cell_type": "code",
   "execution_count": null,
   "id": "1b739be5-5904-4c0a-bcfc-fe95765a47f7",
   "metadata": {},
   "outputs": [],
   "source": [
    "for i in range(5):\n",
    "    fivefile=open(f\"file{i}.txt\",\"r\")\n",
    "for file in fivefile:\n",
    "    allfile=file.read()\n",
    "    print(allfile)"
   ]
  },
  {
   "cell_type": "code",
   "execution_count": 33,
   "id": "12f0d89a-e0b1-4c44-bb06-389ca188d3c9",
   "metadata": {},
   "outputs": [
    {
     "name": "stdout",
     "output_type": "stream",
     "text": [
      "the path is correct C:/Users/sulim/Downloads/\n"
     ]
    }
   ],
   "source": [
    "import os\n",
    "path='C:/Users/sulim/Downloads/'\n",
    "if os.path.exists(path):\n",
    "    print(f'the path is correct {path}')\n",
    "else:\n",
    "    print(f'the path is incorrect {path}')"
   ]
  },
  {
   "cell_type": "code",
   "execution_count": 35,
   "id": "ca2d8a7c-b090-4241-bf74-4288d05ae035",
   "metadata": {},
   "outputs": [
    {
     "data": {
      "text/plain": [
       "['.ipynb_checkpoints',\n",
       " '20240108_Image_Classification_using_Swin_Transformer',\n",
       " 'Covid_Dataset',\n",
       " 'creatingfileanddeleteingit.ipynb',\n",
       " 'entire_swin_transformer_code.ipynb',\n",
       " 'jan.txt',\n",
       " 'myfile.txt',\n",
       " 'newfile.txt',\n",
       " 'newfilef.txt',\n",
       " 'Qasim_project']"
      ]
     },
     "execution_count": 35,
     "metadata": {},
     "output_type": "execute_result"
    }
   ],
   "source": [
    "os.listdir()"
   ]
  },
  {
   "cell_type": "code",
   "execution_count": 59,
   "id": "b28c4ac7-bc88-4855-bb27-a9119de6a352",
   "metadata": {},
   "outputs": [
    {
     "ename": "AttributeError",
     "evalue": "'str' object has no attribute 'read'",
     "output_type": "error",
     "traceback": [
      "\u001b[1;31m---------------------------------------------------------------------------\u001b[0m",
      "\u001b[1;31mAttributeError\u001b[0m                            Traceback (most recent call last)",
      "Cell \u001b[1;32mIn[59], line 2\u001b[0m\n\u001b[0;32m      1\u001b[0m \u001b[38;5;28;01mfor\u001b[39;00m file \u001b[38;5;129;01min\u001b[39;00m path:\n\u001b[1;32m----> 2\u001b[0m     \u001b[38;5;28mprint\u001b[39m(file\u001b[38;5;241m.\u001b[39mread())\n",
      "\u001b[1;31mAttributeError\u001b[0m: 'str' object has no attribute 'read'"
     ]
    }
   ],
   "source": [
    "for file in path:\n",
    "    print(file.read())"
   ]
  },
  {
   "cell_type": "code",
   "execution_count": 67,
   "id": "b45527e5-ebba-428a-8284-b6609d48f621",
   "metadata": {},
   "outputs": [
    {
     "data": {
      "text/plain": [
       "['.ipynb_checkpoints',\n",
       " '20240108_Image_Classification_using_Swin_Transformer',\n",
       " 'Covid_Dataset',\n",
       " 'creatingfileanddeleteingit.ipynb',\n",
       " 'entire_swin_transformer_code.ipynb',\n",
       " 'jan.txt',\n",
       " 'myfile.txt',\n",
       " 'newfile.txt',\n",
       " 'newfilef.txt',\n",
       " 'Qasim_project']"
      ]
     },
     "execution_count": 67,
     "metadata": {},
     "output_type": "execute_result"
    }
   ],
   "source": [
    "textfile=os.listdir(path)\n",
    "textfile"
   ]
  },
  {
   "cell_type": "code",
   "execution_count": 77,
   "id": "b1f4c93c-4495-4eee-b2d3-012a5a8896ab",
   "metadata": {},
   "outputs": [
    {
     "name": "stdout",
     "output_type": "stream",
     "text": [
      "False\n",
      "False\n",
      "False\n",
      "False\n",
      "False\n",
      "True\n",
      "True\n",
      "True\n",
      "True\n",
      "False\n"
     ]
    }
   ],
   "source": [
    "for file in textfile:\n",
    "    # if file[0:].str.contains('.txt'):\n",
    "    #     print(\"these are text file\")\n",
    "    # print(file)\n",
    "    contain= '.txt' in file\n",
    "    print(contain)"
   ]
  },
  {
   "cell_type": "code",
   "execution_count": null,
   "id": "df7f479c-933e-4218-9c4c-3b778cf3c0df",
   "metadata": {},
   "outputs": [],
   "source": []
  }
 ],
 "metadata": {
  "kernelspec": {
   "display_name": "Python 3 (ipykernel)",
   "language": "python",
   "name": "python3"
  },
  "language_info": {
   "codemirror_mode": {
    "name": "ipython",
    "version": 3
   },
   "file_extension": ".py",
   "mimetype": "text/x-python",
   "name": "python",
   "nbconvert_exporter": "python",
   "pygments_lexer": "ipython3",
   "version": "3.12.4"
  }
 },
 "nbformat": 4,
 "nbformat_minor": 5
}
